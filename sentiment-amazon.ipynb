{
 "cells": [
  {
   "cell_type": "code",
   "execution_count": 1,
   "metadata": {},
   "outputs": [],
   "source": [
    "import matplotlib.pyplot as plt\n",
    "import seaborn as sns\n",
    "import pandas as pd\n",
    "import nltk\n",
    "import numpy as np\n",
    "import string\n",
    "\n",
    "from sklearn.linear_model import LogisticRegression\n",
    "from collections import Counter\n",
    "from imblearn.over_sampling import SMOTE\n",
    "from sklearn.metrics import confusion_matrix,classification_report, roc_auc_score\n",
    "from sklearn.model_selection import train_test_split\n",
    "from sklearn.feature_extraction.text import TfidfVectorizer\n",
    "from nltk.stem import WordNetLemmatizer\n",
    "from nltk.corpus import stopwords\n",
    "from nltk.tokenize import word_tokenize\n",
    "from nltk.stem import SnowballStemmer\n",
    "from sklearn import metrics\n",
    "from sklearn.svm import LinearSVC"
   ]
  },
  {
   "cell_type": "code",
   "execution_count": 2,
   "metadata": {},
   "outputs": [
    {
     "data": {
      "text/html": [
       "<div>\n",
       "<style scoped>\n",
       "    .dataframe tbody tr th:only-of-type {\n",
       "        vertical-align: middle;\n",
       "    }\n",
       "\n",
       "    .dataframe tbody tr th {\n",
       "        vertical-align: top;\n",
       "    }\n",
       "\n",
       "    .dataframe thead th {\n",
       "        text-align: right;\n",
       "    }\n",
       "</style>\n",
       "<table border=\"1\" class=\"dataframe\">\n",
       "  <thead>\n",
       "    <tr style=\"text-align: right;\">\n",
       "      <th></th>\n",
       "      <th>Review Title</th>\n",
       "      <th>Customer name</th>\n",
       "      <th>Rating</th>\n",
       "      <th>Date</th>\n",
       "      <th>Category</th>\n",
       "      <th>Comments</th>\n",
       "      <th>Useful</th>\n",
       "    </tr>\n",
       "  </thead>\n",
       "  <tbody>\n",
       "    <tr>\n",
       "      <th>0</th>\n",
       "      <td>Another Midrange killer Smartphone by Xiaomi</td>\n",
       "      <td>Rishikumar Thakur</td>\n",
       "      <td>4.0 out of 5 stars</td>\n",
       "      <td>on 1 October 2018</td>\n",
       "      <td>Display</td>\n",
       "      <td>Another Midrange killer Smartphone by Xiaomi\\n...</td>\n",
       "      <td></td>\n",
       "    </tr>\n",
       "    <tr>\n",
       "      <th>1</th>\n",
       "      <td>vry small size mobile</td>\n",
       "      <td>Raza ji</td>\n",
       "      <td>3.0 out of 5 stars</td>\n",
       "      <td>on 15 September 2018</td>\n",
       "      <td>Others</td>\n",
       "      <td>All ok but vry small size mobile</td>\n",
       "      <td>7 people found this helpful</td>\n",
       "    </tr>\n",
       "    <tr>\n",
       "      <th>2</th>\n",
       "      <td>Full display not working in all application.</td>\n",
       "      <td>Vaibhav Patel</td>\n",
       "      <td>3.0 out of 5 stars</td>\n",
       "      <td>on 18 September 2018</td>\n",
       "      <td>Others</td>\n",
       "      <td>Quite good</td>\n",
       "      <td>7 people found this helpful</td>\n",
       "    </tr>\n",
       "    <tr>\n",
       "      <th>3</th>\n",
       "      <td>Value for Money</td>\n",
       "      <td>Amazon Customer</td>\n",
       "      <td>5.0 out of 5 stars</td>\n",
       "      <td>on 28 September 2018</td>\n",
       "      <td>Display</td>\n",
       "      <td>Redmi has always have been the the king of bud...</td>\n",
       "      <td>2 people found this helpful</td>\n",
       "    </tr>\n",
       "    <tr>\n",
       "      <th>4</th>\n",
       "      <td>Not worth for the money</td>\n",
       "      <td>Sudhakaran Wadakkancheri</td>\n",
       "      <td>2.0 out of 5 stars</td>\n",
       "      <td>on 18 September 2018</td>\n",
       "      <td>Others</td>\n",
       "      <td>worst product from MI. I am a hardcore fan of ...</td>\n",
       "      <td>6 people found this helpful</td>\n",
       "    </tr>\n",
       "    <tr>\n",
       "      <th>...</th>\n",
       "      <td>...</td>\n",
       "      <td>...</td>\n",
       "      <td>...</td>\n",
       "      <td>...</td>\n",
       "      <td>...</td>\n",
       "      <td>...</td>\n",
       "      <td>...</td>\n",
       "    </tr>\n",
       "    <tr>\n",
       "      <th>275</th>\n",
       "      <td>Cemera quality,face unlock most important in t...</td>\n",
       "      <td>Rahul</td>\n",
       "      <td>5.0 out of 5 stars</td>\n",
       "      <td>on 19 September 2018</td>\n",
       "      <td>Others</td>\n",
       "      <td>I like This Phone, Awesome look and design.\\nI...</td>\n",
       "      <td>NaN</td>\n",
       "    </tr>\n",
       "    <tr>\n",
       "      <th>276</th>\n",
       "      <td>Mi is best phone</td>\n",
       "      <td>Sunil Soni</td>\n",
       "      <td>4.0 out of 5 stars</td>\n",
       "      <td>on 18 September 2018</td>\n",
       "      <td>Others</td>\n",
       "      <td>Product is avasome but invoice is note include...</td>\n",
       "      <td>NaN</td>\n",
       "    </tr>\n",
       "    <tr>\n",
       "      <th>277</th>\n",
       "      <td>Its a OK Phone</td>\n",
       "      <td>D.C.Padhi</td>\n",
       "      <td>3.0 out of 5 stars</td>\n",
       "      <td>on 15 September 2018</td>\n",
       "      <td>Battery</td>\n",
       "      <td>Redmi Note4, Note5, now 6pro..It seems the old...</td>\n",
       "      <td>NaN</td>\n",
       "    </tr>\n",
       "    <tr>\n",
       "      <th>278</th>\n",
       "      <td>Redmi</td>\n",
       "      <td>Mahesh</td>\n",
       "      <td>5.0 out of 5 stars</td>\n",
       "      <td>on 21 September 2018</td>\n",
       "      <td>Others</td>\n",
       "      <td>I love mi</td>\n",
       "      <td>NaN</td>\n",
       "    </tr>\n",
       "    <tr>\n",
       "      <th>279</th>\n",
       "      <td>Not worth for the price.</td>\n",
       "      <td>Vinod</td>\n",
       "      <td>1.0 out of 5 stars</td>\n",
       "      <td>on 17 September 2018</td>\n",
       "      <td>Camera</td>\n",
       "      <td>Same old configurations with higher price.\\nNo...</td>\n",
       "      <td>NaN</td>\n",
       "    </tr>\n",
       "  </tbody>\n",
       "</table>\n",
       "<p>280 rows × 7 columns</p>\n",
       "</div>"
      ],
      "text/plain": [
       "                                          Review Title  \\\n",
       "0         Another Midrange killer Smartphone by Xiaomi   \n",
       "1                                vry small size mobile   \n",
       "2         Full display not working in all application.   \n",
       "3                                      Value for Money   \n",
       "4                              Not worth for the money   \n",
       "..                                                 ...   \n",
       "275  Cemera quality,face unlock most important in t...   \n",
       "276                                   Mi is best phone   \n",
       "277                                     Its a OK Phone   \n",
       "278                                              Redmi   \n",
       "279                           Not worth for the price.   \n",
       "\n",
       "                Customer name              Rating                  Date  \\\n",
       "0           Rishikumar Thakur  4.0 out of 5 stars     on 1 October 2018   \n",
       "1                     Raza ji  3.0 out of 5 stars  on 15 September 2018   \n",
       "2               Vaibhav Patel  3.0 out of 5 stars  on 18 September 2018   \n",
       "3             Amazon Customer  5.0 out of 5 stars  on 28 September 2018   \n",
       "4    Sudhakaran Wadakkancheri  2.0 out of 5 stars  on 18 September 2018   \n",
       "..                        ...                 ...                   ...   \n",
       "275                     Rahul  5.0 out of 5 stars  on 19 September 2018   \n",
       "276                Sunil Soni  4.0 out of 5 stars  on 18 September 2018   \n",
       "277                 D.C.Padhi  3.0 out of 5 stars  on 15 September 2018   \n",
       "278                    Mahesh  5.0 out of 5 stars  on 21 September 2018   \n",
       "279                     Vinod  1.0 out of 5 stars  on 17 September 2018   \n",
       "\n",
       "    Category                                           Comments  \\\n",
       "0    Display  Another Midrange killer Smartphone by Xiaomi\\n...   \n",
       "1     Others                   All ok but vry small size mobile   \n",
       "2     Others                                         Quite good   \n",
       "3    Display  Redmi has always have been the the king of bud...   \n",
       "4     Others  worst product from MI. I am a hardcore fan of ...   \n",
       "..       ...                                                ...   \n",
       "275   Others  I like This Phone, Awesome look and design.\\nI...   \n",
       "276   Others  Product is avasome but invoice is note include...   \n",
       "277  Battery  Redmi Note4, Note5, now 6pro..It seems the old...   \n",
       "278   Others                                          I love mi   \n",
       "279   Camera  Same old configurations with higher price.\\nNo...   \n",
       "\n",
       "                          Useful  \n",
       "0                                 \n",
       "1    7 people found this helpful  \n",
       "2    7 people found this helpful  \n",
       "3    2 people found this helpful  \n",
       "4    6 people found this helpful  \n",
       "..                           ...  \n",
       "275                          NaN  \n",
       "276                          NaN  \n",
       "277                          NaN  \n",
       "278                          NaN  \n",
       "279                          NaN  \n",
       "\n",
       "[280 rows x 7 columns]"
      ]
     },
     "execution_count": 2,
     "metadata": {},
     "output_type": "execute_result"
    }
   ],
   "source": [
    "df = pd.read_csv('redmi6.csv', encoding='latin-1')\n",
    "df"
   ]
  },
  {
   "cell_type": "code",
   "execution_count": 3,
   "metadata": {},
   "outputs": [
    {
     "data": {
      "text/plain": [
       "Review Title       0\n",
       "Customer name      0\n",
       "Rating             0\n",
       "Date               0\n",
       "Category           0\n",
       "Comments           0\n",
       "Useful           170\n",
       "dtype: int64"
      ]
     },
     "execution_count": 3,
     "metadata": {},
     "output_type": "execute_result"
    }
   ],
   "source": [
    "df.isnull().sum()"
   ]
  },
  {
   "cell_type": "code",
   "execution_count": 4,
   "metadata": {},
   "outputs": [
    {
     "data": {
      "text/plain": [
       "Review Title     0\n",
       "Customer name    0\n",
       "Rating           0\n",
       "Date             0\n",
       "Category         0\n",
       "Comments         0\n",
       "Useful           0\n",
       "dtype: int64"
      ]
     },
     "execution_count": 4,
     "metadata": {},
     "output_type": "execute_result"
    }
   ],
   "source": [
    "df['Useful'] = df['Useful'].fillna('0 people found this helpful')\n",
    "df.isnull().sum()"
   ]
  },
  {
   "cell_type": "code",
   "execution_count": 5,
   "metadata": {},
   "outputs": [
    {
     "data": {
      "text/plain": [
       "21"
      ]
     },
     "execution_count": 5,
     "metadata": {},
     "output_type": "execute_result"
    }
   ],
   "source": [
    "df.duplicated().sum()"
   ]
  },
  {
   "cell_type": "code",
   "execution_count": 6,
   "metadata": {},
   "outputs": [
    {
     "data": {
      "text/html": [
       "<div>\n",
       "<style scoped>\n",
       "    .dataframe tbody tr th:only-of-type {\n",
       "        vertical-align: middle;\n",
       "    }\n",
       "\n",
       "    .dataframe tbody tr th {\n",
       "        vertical-align: top;\n",
       "    }\n",
       "\n",
       "    .dataframe thead th {\n",
       "        text-align: right;\n",
       "    }\n",
       "</style>\n",
       "<table border=\"1\" class=\"dataframe\">\n",
       "  <thead>\n",
       "    <tr style=\"text-align: right;\">\n",
       "      <th></th>\n",
       "      <th>Review Title</th>\n",
       "      <th>Customer name</th>\n",
       "      <th>Rating</th>\n",
       "      <th>Date</th>\n",
       "      <th>Category</th>\n",
       "      <th>Comments</th>\n",
       "      <th>Useful</th>\n",
       "    </tr>\n",
       "  </thead>\n",
       "  <tbody>\n",
       "    <tr>\n",
       "      <th>0</th>\n",
       "      <td>Another Midrange killer Smartphone by Xiaomi</td>\n",
       "      <td>Rishikumar Thakur</td>\n",
       "      <td>4.0 out of 5 stars</td>\n",
       "      <td>on 1 October 2018</td>\n",
       "      <td>Display</td>\n",
       "      <td>Another Midrange killer Smartphone by Xiaomi\\n...</td>\n",
       "      <td></td>\n",
       "    </tr>\n",
       "    <tr>\n",
       "      <th>1</th>\n",
       "      <td>vry small size mobile</td>\n",
       "      <td>Raza ji</td>\n",
       "      <td>3.0 out of 5 stars</td>\n",
       "      <td>on 15 September 2018</td>\n",
       "      <td>Others</td>\n",
       "      <td>All ok but vry small size mobile</td>\n",
       "      <td>7 people found this helpful</td>\n",
       "    </tr>\n",
       "    <tr>\n",
       "      <th>2</th>\n",
       "      <td>Full display not working in all application.</td>\n",
       "      <td>Vaibhav Patel</td>\n",
       "      <td>3.0 out of 5 stars</td>\n",
       "      <td>on 18 September 2018</td>\n",
       "      <td>Others</td>\n",
       "      <td>Quite good</td>\n",
       "      <td>7 people found this helpful</td>\n",
       "    </tr>\n",
       "    <tr>\n",
       "      <th>3</th>\n",
       "      <td>Value for Money</td>\n",
       "      <td>Amazon Customer</td>\n",
       "      <td>5.0 out of 5 stars</td>\n",
       "      <td>on 28 September 2018</td>\n",
       "      <td>Display</td>\n",
       "      <td>Redmi has always have been the the king of bud...</td>\n",
       "      <td>2 people found this helpful</td>\n",
       "    </tr>\n",
       "    <tr>\n",
       "      <th>4</th>\n",
       "      <td>Not worth for the money</td>\n",
       "      <td>Sudhakaran Wadakkancheri</td>\n",
       "      <td>2.0 out of 5 stars</td>\n",
       "      <td>on 18 September 2018</td>\n",
       "      <td>Others</td>\n",
       "      <td>worst product from MI. I am a hardcore fan of ...</td>\n",
       "      <td>6 people found this helpful</td>\n",
       "    </tr>\n",
       "    <tr>\n",
       "      <th>...</th>\n",
       "      <td>...</td>\n",
       "      <td>...</td>\n",
       "      <td>...</td>\n",
       "      <td>...</td>\n",
       "      <td>...</td>\n",
       "      <td>...</td>\n",
       "      <td>...</td>\n",
       "    </tr>\n",
       "    <tr>\n",
       "      <th>275</th>\n",
       "      <td>Cemera quality,face unlock most important in t...</td>\n",
       "      <td>Rahul</td>\n",
       "      <td>5.0 out of 5 stars</td>\n",
       "      <td>on 19 September 2018</td>\n",
       "      <td>Others</td>\n",
       "      <td>I like This Phone, Awesome look and design.\\nI...</td>\n",
       "      <td>0 people found this helpful</td>\n",
       "    </tr>\n",
       "    <tr>\n",
       "      <th>276</th>\n",
       "      <td>Mi is best phone</td>\n",
       "      <td>Sunil Soni</td>\n",
       "      <td>4.0 out of 5 stars</td>\n",
       "      <td>on 18 September 2018</td>\n",
       "      <td>Others</td>\n",
       "      <td>Product is avasome but invoice is note include...</td>\n",
       "      <td>0 people found this helpful</td>\n",
       "    </tr>\n",
       "    <tr>\n",
       "      <th>277</th>\n",
       "      <td>Its a OK Phone</td>\n",
       "      <td>D.C.Padhi</td>\n",
       "      <td>3.0 out of 5 stars</td>\n",
       "      <td>on 15 September 2018</td>\n",
       "      <td>Battery</td>\n",
       "      <td>Redmi Note4, Note5, now 6pro..It seems the old...</td>\n",
       "      <td>0 people found this helpful</td>\n",
       "    </tr>\n",
       "    <tr>\n",
       "      <th>278</th>\n",
       "      <td>Redmi</td>\n",
       "      <td>Mahesh</td>\n",
       "      <td>5.0 out of 5 stars</td>\n",
       "      <td>on 21 September 2018</td>\n",
       "      <td>Others</td>\n",
       "      <td>I love mi</td>\n",
       "      <td>0 people found this helpful</td>\n",
       "    </tr>\n",
       "    <tr>\n",
       "      <th>279</th>\n",
       "      <td>Not worth for the price.</td>\n",
       "      <td>Vinod</td>\n",
       "      <td>1.0 out of 5 stars</td>\n",
       "      <td>on 17 September 2018</td>\n",
       "      <td>Camera</td>\n",
       "      <td>Same old configurations with higher price.\\nNo...</td>\n",
       "      <td>0 people found this helpful</td>\n",
       "    </tr>\n",
       "  </tbody>\n",
       "</table>\n",
       "<p>259 rows × 7 columns</p>\n",
       "</div>"
      ],
      "text/plain": [
       "                                          Review Title  \\\n",
       "0         Another Midrange killer Smartphone by Xiaomi   \n",
       "1                                vry small size mobile   \n",
       "2         Full display not working in all application.   \n",
       "3                                      Value for Money   \n",
       "4                              Not worth for the money   \n",
       "..                                                 ...   \n",
       "275  Cemera quality,face unlock most important in t...   \n",
       "276                                   Mi is best phone   \n",
       "277                                     Its a OK Phone   \n",
       "278                                              Redmi   \n",
       "279                           Not worth for the price.   \n",
       "\n",
       "                Customer name              Rating                  Date  \\\n",
       "0           Rishikumar Thakur  4.0 out of 5 stars     on 1 October 2018   \n",
       "1                     Raza ji  3.0 out of 5 stars  on 15 September 2018   \n",
       "2               Vaibhav Patel  3.0 out of 5 stars  on 18 September 2018   \n",
       "3             Amazon Customer  5.0 out of 5 stars  on 28 September 2018   \n",
       "4    Sudhakaran Wadakkancheri  2.0 out of 5 stars  on 18 September 2018   \n",
       "..                        ...                 ...                   ...   \n",
       "275                     Rahul  5.0 out of 5 stars  on 19 September 2018   \n",
       "276                Sunil Soni  4.0 out of 5 stars  on 18 September 2018   \n",
       "277                 D.C.Padhi  3.0 out of 5 stars  on 15 September 2018   \n",
       "278                    Mahesh  5.0 out of 5 stars  on 21 September 2018   \n",
       "279                     Vinod  1.0 out of 5 stars  on 17 September 2018   \n",
       "\n",
       "    Category                                           Comments  \\\n",
       "0    Display  Another Midrange killer Smartphone by Xiaomi\\n...   \n",
       "1     Others                   All ok but vry small size mobile   \n",
       "2     Others                                         Quite good   \n",
       "3    Display  Redmi has always have been the the king of bud...   \n",
       "4     Others  worst product from MI. I am a hardcore fan of ...   \n",
       "..       ...                                                ...   \n",
       "275   Others  I like This Phone, Awesome look and design.\\nI...   \n",
       "276   Others  Product is avasome but invoice is note include...   \n",
       "277  Battery  Redmi Note4, Note5, now 6pro..It seems the old...   \n",
       "278   Others                                          I love mi   \n",
       "279   Camera  Same old configurations with higher price.\\nNo...   \n",
       "\n",
       "                          Useful  \n",
       "0                                 \n",
       "1    7 people found this helpful  \n",
       "2    7 people found this helpful  \n",
       "3    2 people found this helpful  \n",
       "4    6 people found this helpful  \n",
       "..                           ...  \n",
       "275  0 people found this helpful  \n",
       "276  0 people found this helpful  \n",
       "277  0 people found this helpful  \n",
       "278  0 people found this helpful  \n",
       "279  0 people found this helpful  \n",
       "\n",
       "[259 rows x 7 columns]"
      ]
     },
     "execution_count": 6,
     "metadata": {},
     "output_type": "execute_result"
    }
   ],
   "source": [
    "df.drop_duplicates()"
   ]
  },
  {
   "cell_type": "code",
   "execution_count": 7,
   "metadata": {},
   "outputs": [
    {
     "data": {
      "text/html": [
       "<div>\n",
       "<style scoped>\n",
       "    .dataframe tbody tr th:only-of-type {\n",
       "        vertical-align: middle;\n",
       "    }\n",
       "\n",
       "    .dataframe tbody tr th {\n",
       "        vertical-align: top;\n",
       "    }\n",
       "\n",
       "    .dataframe thead th {\n",
       "        text-align: right;\n",
       "    }\n",
       "</style>\n",
       "<table border=\"1\" class=\"dataframe\">\n",
       "  <thead>\n",
       "    <tr style=\"text-align: right;\">\n",
       "      <th></th>\n",
       "      <th>Review Title</th>\n",
       "      <th>Customer name</th>\n",
       "      <th>Rating</th>\n",
       "      <th>Date</th>\n",
       "      <th>Category</th>\n",
       "      <th>Comments</th>\n",
       "      <th>Useful</th>\n",
       "    </tr>\n",
       "  </thead>\n",
       "  <tbody>\n",
       "    <tr>\n",
       "      <th>0</th>\n",
       "      <td>Another Midrange killer Smartphone by Xiaomi</td>\n",
       "      <td>Rishikumar Thakur</td>\n",
       "      <td>4</td>\n",
       "      <td>on 1 October 2018</td>\n",
       "      <td>Display</td>\n",
       "      <td>Another Midrange killer Smartphone by Xiaomi\\n...</td>\n",
       "      <td></td>\n",
       "    </tr>\n",
       "    <tr>\n",
       "      <th>1</th>\n",
       "      <td>vry small size mobile</td>\n",
       "      <td>Raza ji</td>\n",
       "      <td>3</td>\n",
       "      <td>on 15 September 2018</td>\n",
       "      <td>Others</td>\n",
       "      <td>All ok but vry small size mobile</td>\n",
       "      <td>7 people found this helpful</td>\n",
       "    </tr>\n",
       "    <tr>\n",
       "      <th>2</th>\n",
       "      <td>Full display not working in all application.</td>\n",
       "      <td>Vaibhav Patel</td>\n",
       "      <td>3</td>\n",
       "      <td>on 18 September 2018</td>\n",
       "      <td>Others</td>\n",
       "      <td>Quite good</td>\n",
       "      <td>7 people found this helpful</td>\n",
       "    </tr>\n",
       "    <tr>\n",
       "      <th>3</th>\n",
       "      <td>Value for Money</td>\n",
       "      <td>Amazon Customer</td>\n",
       "      <td>5</td>\n",
       "      <td>on 28 September 2018</td>\n",
       "      <td>Display</td>\n",
       "      <td>Redmi has always have been the the king of bud...</td>\n",
       "      <td>2 people found this helpful</td>\n",
       "    </tr>\n",
       "    <tr>\n",
       "      <th>4</th>\n",
       "      <td>Not worth for the money</td>\n",
       "      <td>Sudhakaran Wadakkancheri</td>\n",
       "      <td>2</td>\n",
       "      <td>on 18 September 2018</td>\n",
       "      <td>Others</td>\n",
       "      <td>worst product from MI. I am a hardcore fan of ...</td>\n",
       "      <td>6 people found this helpful</td>\n",
       "    </tr>\n",
       "  </tbody>\n",
       "</table>\n",
       "</div>"
      ],
      "text/plain": [
       "                                   Review Title             Customer name  \\\n",
       "0  Another Midrange killer Smartphone by Xiaomi         Rishikumar Thakur   \n",
       "1                         vry small size mobile                   Raza ji   \n",
       "2  Full display not working in all application.             Vaibhav Patel   \n",
       "3                               Value for Money           Amazon Customer   \n",
       "4                       Not worth for the money  Sudhakaran Wadakkancheri   \n",
       "\n",
       "   Rating                  Date Category  \\\n",
       "0       4     on 1 October 2018  Display   \n",
       "1       3  on 15 September 2018   Others   \n",
       "2       3  on 18 September 2018   Others   \n",
       "3       5  on 28 September 2018  Display   \n",
       "4       2  on 18 September 2018   Others   \n",
       "\n",
       "                                            Comments  \\\n",
       "0  Another Midrange killer Smartphone by Xiaomi\\n...   \n",
       "1                   All ok but vry small size mobile   \n",
       "2                                         Quite good   \n",
       "3  Redmi has always have been the the king of bud...   \n",
       "4  worst product from MI. I am a hardcore fan of ...   \n",
       "\n",
       "                        Useful  \n",
       "0                               \n",
       "1  7 people found this helpful  \n",
       "2  7 people found this helpful  \n",
       "3  2 people found this helpful  \n",
       "4  6 people found this helpful  "
      ]
     },
     "execution_count": 7,
     "metadata": {},
     "output_type": "execute_result"
    }
   ],
   "source": [
    "Rating = {'5.0 out of 5 stars':5, '4.0 out of 5 stars':4, '3.0 out of 5 stars':3, '2.0 out of 5 stars':2, '1.0 out of 5 stars':1}\n",
    "\n",
    "df.Rating = [Rating[item] for item in df.Rating]\n",
    "df.head()"
   ]
  },
  {
   "cell_type": "code",
   "execution_count": 8,
   "metadata": {},
   "outputs": [
    {
     "name": "stderr",
     "output_type": "stream",
     "text": [
      "c:\\Users\\Julian Andhika\\AppData\\Local\\Programs\\Python\\Python37\\lib\\site-packages\\ipykernel_launcher.py:2: SettingWithCopyWarning: \n",
      "A value is trying to be set on a copy of a slice from a DataFrame.\n",
      "Try using .loc[row_indexer,col_indexer] = value instead\n",
      "\n",
      "See the caveats in the documentation: https://pandas.pydata.org/pandas-docs/stable/user_guide/indexing.html#returning-a-view-versus-a-copy\n",
      "  \n"
     ]
    },
    {
     "data": {
      "text/html": [
       "<div>\n",
       "<style scoped>\n",
       "    .dataframe tbody tr th:only-of-type {\n",
       "        vertical-align: middle;\n",
       "    }\n",
       "\n",
       "    .dataframe tbody tr th {\n",
       "        vertical-align: top;\n",
       "    }\n",
       "\n",
       "    .dataframe thead th {\n",
       "        text-align: right;\n",
       "    }\n",
       "</style>\n",
       "<table border=\"1\" class=\"dataframe\">\n",
       "  <thead>\n",
       "    <tr style=\"text-align: right;\">\n",
       "      <th></th>\n",
       "      <th>Review Title</th>\n",
       "      <th>Customer name</th>\n",
       "      <th>Rating</th>\n",
       "      <th>Date</th>\n",
       "      <th>Category</th>\n",
       "      <th>Comments</th>\n",
       "      <th>Useful</th>\n",
       "      <th>Sentiment</th>\n",
       "    </tr>\n",
       "  </thead>\n",
       "  <tbody>\n",
       "    <tr>\n",
       "      <th>0</th>\n",
       "      <td>Another Midrange killer Smartphone by Xiaomi</td>\n",
       "      <td>Rishikumar Thakur</td>\n",
       "      <td>4</td>\n",
       "      <td>on 1 October 2018</td>\n",
       "      <td>Display</td>\n",
       "      <td>Another Midrange killer Smartphone by Xiaomi\\n...</td>\n",
       "      <td></td>\n",
       "      <td>1</td>\n",
       "    </tr>\n",
       "    <tr>\n",
       "      <th>3</th>\n",
       "      <td>Value for Money</td>\n",
       "      <td>Amazon Customer</td>\n",
       "      <td>5</td>\n",
       "      <td>on 28 September 2018</td>\n",
       "      <td>Display</td>\n",
       "      <td>Redmi has always have been the the king of bud...</td>\n",
       "      <td>2 people found this helpful</td>\n",
       "      <td>1</td>\n",
       "    </tr>\n",
       "    <tr>\n",
       "      <th>4</th>\n",
       "      <td>Not worth for the money</td>\n",
       "      <td>Sudhakaran Wadakkancheri</td>\n",
       "      <td>2</td>\n",
       "      <td>on 18 September 2018</td>\n",
       "      <td>Others</td>\n",
       "      <td>worst product from MI. I am a hardcore fan of ...</td>\n",
       "      <td>6 people found this helpful</td>\n",
       "      <td>0</td>\n",
       "    </tr>\n",
       "    <tr>\n",
       "      <th>6</th>\n",
       "      <td>Fabulous!</td>\n",
       "      <td>Irukulla bharath</td>\n",
       "      <td>4</td>\n",
       "      <td>on 17 September 2018</td>\n",
       "      <td>Display</td>\n",
       "      <td>Pros:\\nnotch display\\nDual camera\\nFace unlock...</td>\n",
       "      <td>3 people found this helpful</td>\n",
       "      <td>1</td>\n",
       "    </tr>\n",
       "    <tr>\n",
       "      <th>7</th>\n",
       "      <td>Fantastic</td>\n",
       "      <td>Amazon Customer</td>\n",
       "      <td>4</td>\n",
       "      <td>on 18 September 2018</td>\n",
       "      <td>Camera</td>\n",
       "      <td>Front camera is poor rest things are good</td>\n",
       "      <td>5 people found this helpful</td>\n",
       "      <td>1</td>\n",
       "    </tr>\n",
       "  </tbody>\n",
       "</table>\n",
       "</div>"
      ],
      "text/plain": [
       "                                   Review Title             Customer name  \\\n",
       "0  Another Midrange killer Smartphone by Xiaomi         Rishikumar Thakur   \n",
       "3                               Value for Money           Amazon Customer   \n",
       "4                       Not worth for the money  Sudhakaran Wadakkancheri   \n",
       "6                                     Fabulous!          Irukulla bharath   \n",
       "7                                     Fantastic           Amazon Customer   \n",
       "\n",
       "   Rating                  Date Category  \\\n",
       "0       4     on 1 October 2018  Display   \n",
       "3       5  on 28 September 2018  Display   \n",
       "4       2  on 18 September 2018   Others   \n",
       "6       4  on 17 September 2018  Display   \n",
       "7       4  on 18 September 2018   Camera   \n",
       "\n",
       "                                            Comments  \\\n",
       "0  Another Midrange killer Smartphone by Xiaomi\\n...   \n",
       "3  Redmi has always have been the the king of bud...   \n",
       "4  worst product from MI. I am a hardcore fan of ...   \n",
       "6  Pros:\\nnotch display\\nDual camera\\nFace unlock...   \n",
       "7          Front camera is poor rest things are good   \n",
       "\n",
       "                        Useful  Sentiment  \n",
       "0                                       1  \n",
       "3  2 people found this helpful          1  \n",
       "4  6 people found this helpful          0  \n",
       "6  3 people found this helpful          1  \n",
       "7  5 people found this helpful          1  "
      ]
     },
     "execution_count": 8,
     "metadata": {},
     "output_type": "execute_result"
    }
   ],
   "source": [
    "df = df[df['Rating'] != 3]\n",
    "df['Sentiment'] = df['Rating'].apply(lambda rating: +1 if rating >3 else 0)\n",
    "df.head()"
   ]
  },
  {
   "cell_type": "code",
   "execution_count": 9,
   "metadata": {},
   "outputs": [
    {
     "name": "stderr",
     "output_type": "stream",
     "text": [
      "c:\\Users\\Julian Andhika\\AppData\\Local\\Programs\\Python\\Python37\\lib\\site-packages\\pandas\\core\\generic.py:5516: SettingWithCopyWarning: \n",
      "A value is trying to be set on a copy of a slice from a DataFrame.\n",
      "Try using .loc[row_indexer,col_indexer] = value instead\n",
      "\n",
      "See the caveats in the documentation: https://pandas.pydata.org/pandas-docs/stable/user_guide/indexing.html#returning-a-view-versus-a-copy\n",
      "  self[name] = value\n"
     ]
    },
    {
     "data": {
      "text/html": [
       "<div>\n",
       "<style scoped>\n",
       "    .dataframe tbody tr th:only-of-type {\n",
       "        vertical-align: middle;\n",
       "    }\n",
       "\n",
       "    .dataframe tbody tr th {\n",
       "        vertical-align: top;\n",
       "    }\n",
       "\n",
       "    .dataframe thead th {\n",
       "        text-align: right;\n",
       "    }\n",
       "</style>\n",
       "<table border=\"1\" class=\"dataframe\">\n",
       "  <thead>\n",
       "    <tr style=\"text-align: right;\">\n",
       "      <th></th>\n",
       "      <th>Review Title</th>\n",
       "      <th>Customer name</th>\n",
       "      <th>Rating</th>\n",
       "      <th>Date</th>\n",
       "      <th>Category</th>\n",
       "      <th>Comments</th>\n",
       "      <th>Useful</th>\n",
       "      <th>Sentiment</th>\n",
       "    </tr>\n",
       "  </thead>\n",
       "  <tbody>\n",
       "    <tr>\n",
       "      <th>0</th>\n",
       "      <td>Another Midrange killer Smartphone by Xiaomi</td>\n",
       "      <td>Rishikumar Thakur</td>\n",
       "      <td>4</td>\n",
       "      <td>on 1 October 2018</td>\n",
       "      <td>1</td>\n",
       "      <td>Another Midrange killer Smartphone by Xiaomi\\n...</td>\n",
       "      <td></td>\n",
       "      <td>1</td>\n",
       "    </tr>\n",
       "    <tr>\n",
       "      <th>3</th>\n",
       "      <td>Value for Money</td>\n",
       "      <td>Amazon Customer</td>\n",
       "      <td>5</td>\n",
       "      <td>on 28 September 2018</td>\n",
       "      <td>1</td>\n",
       "      <td>Redmi has always have been the the king of bud...</td>\n",
       "      <td>2 people found this helpful</td>\n",
       "      <td>1</td>\n",
       "    </tr>\n",
       "    <tr>\n",
       "      <th>4</th>\n",
       "      <td>Not worth for the money</td>\n",
       "      <td>Sudhakaran Wadakkancheri</td>\n",
       "      <td>2</td>\n",
       "      <td>on 18 September 2018</td>\n",
       "      <td>5</td>\n",
       "      <td>worst product from MI. I am a hardcore fan of ...</td>\n",
       "      <td>6 people found this helpful</td>\n",
       "      <td>0</td>\n",
       "    </tr>\n",
       "    <tr>\n",
       "      <th>6</th>\n",
       "      <td>Fabulous!</td>\n",
       "      <td>Irukulla bharath</td>\n",
       "      <td>4</td>\n",
       "      <td>on 17 September 2018</td>\n",
       "      <td>1</td>\n",
       "      <td>Pros:\\nnotch display\\nDual camera\\nFace unlock...</td>\n",
       "      <td>3 people found this helpful</td>\n",
       "      <td>1</td>\n",
       "    </tr>\n",
       "    <tr>\n",
       "      <th>7</th>\n",
       "      <td>Fantastic</td>\n",
       "      <td>Amazon Customer</td>\n",
       "      <td>4</td>\n",
       "      <td>on 18 September 2018</td>\n",
       "      <td>2</td>\n",
       "      <td>Front camera is poor rest things are good</td>\n",
       "      <td>5 people found this helpful</td>\n",
       "      <td>1</td>\n",
       "    </tr>\n",
       "  </tbody>\n",
       "</table>\n",
       "</div>"
      ],
      "text/plain": [
       "                                   Review Title             Customer name  \\\n",
       "0  Another Midrange killer Smartphone by Xiaomi         Rishikumar Thakur   \n",
       "3                               Value for Money           Amazon Customer   \n",
       "4                       Not worth for the money  Sudhakaran Wadakkancheri   \n",
       "6                                     Fabulous!          Irukulla bharath   \n",
       "7                                     Fantastic           Amazon Customer   \n",
       "\n",
       "   Rating                  Date  Category  \\\n",
       "0       4     on 1 October 2018         1   \n",
       "3       5  on 28 September 2018         1   \n",
       "4       2  on 18 September 2018         5   \n",
       "6       4  on 17 September 2018         1   \n",
       "7       4  on 18 September 2018         2   \n",
       "\n",
       "                                            Comments  \\\n",
       "0  Another Midrange killer Smartphone by Xiaomi\\n...   \n",
       "3  Redmi has always have been the the king of bud...   \n",
       "4  worst product from MI. I am a hardcore fan of ...   \n",
       "6  Pros:\\nnotch display\\nDual camera\\nFace unlock...   \n",
       "7          Front camera is poor rest things are good   \n",
       "\n",
       "                        Useful  Sentiment  \n",
       "0                                       1  \n",
       "3  2 people found this helpful          1  \n",
       "4  6 people found this helpful          0  \n",
       "6  3 people found this helpful          1  \n",
       "7  5 people found this helpful          1  "
      ]
     },
     "execution_count": 9,
     "metadata": {},
     "output_type": "execute_result"
    }
   ],
   "source": [
    "#Category\n",
    "#Display: 1\n",
    "#Camera: 2\n",
    "#Battery: 3\n",
    "#Delivery: 4\n",
    "#Others: 5\n",
    "\n",
    "Category = {'Display':1, 'Camera':2, 'Battery':3, 'Delivery':4, 'Others':5}\n",
    "df.Category = [Category[item] for item in df.Category]\n",
    "df.head()"
   ]
  },
  {
   "cell_type": "code",
   "execution_count": 10,
   "metadata": {},
   "outputs": [
    {
     "name": "stderr",
     "output_type": "stream",
     "text": [
      "c:\\Users\\Julian Andhika\\AppData\\Local\\Programs\\Python\\Python37\\lib\\site-packages\\ipykernel_launcher.py:6: SettingWithCopyWarning: \n",
      "A value is trying to be set on a copy of a slice from a DataFrame.\n",
      "Try using .loc[row_indexer,col_indexer] = value instead\n",
      "\n",
      "See the caveats in the documentation: https://pandas.pydata.org/pandas-docs/stable/user_guide/indexing.html#returning-a-view-versus-a-copy\n",
      "  \n",
      "c:\\Users\\Julian Andhika\\AppData\\Local\\Programs\\Python\\Python37\\lib\\site-packages\\ipykernel_launcher.py:7: SettingWithCopyWarning: \n",
      "A value is trying to be set on a copy of a slice from a DataFrame.\n",
      "Try using .loc[row_indexer,col_indexer] = value instead\n",
      "\n",
      "See the caveats in the documentation: https://pandas.pydata.org/pandas-docs/stable/user_guide/indexing.html#returning-a-view-versus-a-copy\n",
      "  import sys\n",
      "c:\\Users\\Julian Andhika\\AppData\\Local\\Programs\\Python\\Python37\\lib\\site-packages\\ipykernel_launcher.py:8: SettingWithCopyWarning: \n",
      "A value is trying to be set on a copy of a slice from a DataFrame.\n",
      "Try using .loc[row_indexer,col_indexer] = value instead\n",
      "\n",
      "See the caveats in the documentation: https://pandas.pydata.org/pandas-docs/stable/user_guide/indexing.html#returning-a-view-versus-a-copy\n",
      "  \n"
     ]
    },
    {
     "data": {
      "text/html": [
       "<div>\n",
       "<style scoped>\n",
       "    .dataframe tbody tr th:only-of-type {\n",
       "        vertical-align: middle;\n",
       "    }\n",
       "\n",
       "    .dataframe tbody tr th {\n",
       "        vertical-align: top;\n",
       "    }\n",
       "\n",
       "    .dataframe thead th {\n",
       "        text-align: right;\n",
       "    }\n",
       "</style>\n",
       "<table border=\"1\" class=\"dataframe\">\n",
       "  <thead>\n",
       "    <tr style=\"text-align: right;\">\n",
       "      <th></th>\n",
       "      <th>Review Title</th>\n",
       "      <th>Customer name</th>\n",
       "      <th>Rating</th>\n",
       "      <th>Date</th>\n",
       "      <th>Category</th>\n",
       "      <th>Comments</th>\n",
       "      <th>Useful</th>\n",
       "      <th>Sentiment</th>\n",
       "      <th>tokenized_comments</th>\n",
       "    </tr>\n",
       "  </thead>\n",
       "  <tbody>\n",
       "    <tr>\n",
       "      <th>0</th>\n",
       "      <td>Another Midrange killer Smartphone by Xiaomi</td>\n",
       "      <td>Rishikumar Thakur</td>\n",
       "      <td>4</td>\n",
       "      <td>on 1 October 2018</td>\n",
       "      <td>1</td>\n",
       "      <td>Another Midrange killer Smartphone by Xiaomi\\n...</td>\n",
       "      <td></td>\n",
       "      <td>1</td>\n",
       "      <td>another midrange killer smartphone xiaomi majo...</td>\n",
       "    </tr>\n",
       "    <tr>\n",
       "      <th>3</th>\n",
       "      <td>Value for Money</td>\n",
       "      <td>Amazon Customer</td>\n",
       "      <td>5</td>\n",
       "      <td>on 28 September 2018</td>\n",
       "      <td>1</td>\n",
       "      <td>Redmi has always have been the the king of bud...</td>\n",
       "      <td>2 people found this helpful</td>\n",
       "      <td>1</td>\n",
       "      <td>redmi always king budget segmentand yet anothe...</td>\n",
       "    </tr>\n",
       "    <tr>\n",
       "      <th>4</th>\n",
       "      <td>Not worth for the money</td>\n",
       "      <td>Sudhakaran Wadakkancheri</td>\n",
       "      <td>2</td>\n",
       "      <td>on 18 September 2018</td>\n",
       "      <td>5</td>\n",
       "      <td>worst product from MI. I am a hardcore fan of ...</td>\n",
       "      <td>6 people found this helpful</td>\n",
       "      <td>0</td>\n",
       "      <td>worst product mi hardcore fan mi one really di...</td>\n",
       "    </tr>\n",
       "    <tr>\n",
       "      <th>6</th>\n",
       "      <td>Fabulous!</td>\n",
       "      <td>Irukulla bharath</td>\n",
       "      <td>4</td>\n",
       "      <td>on 17 September 2018</td>\n",
       "      <td>1</td>\n",
       "      <td>Pros:\\nnotch display\\nDual camera\\nFace unlock...</td>\n",
       "      <td>3 people found this helpful</td>\n",
       "      <td>1</td>\n",
       "      <td>pro notch display dual camera face unlock 4000...</td>\n",
       "    </tr>\n",
       "    <tr>\n",
       "      <th>7</th>\n",
       "      <td>Fantastic</td>\n",
       "      <td>Amazon Customer</td>\n",
       "      <td>4</td>\n",
       "      <td>on 18 September 2018</td>\n",
       "      <td>2</td>\n",
       "      <td>Front camera is poor rest things are good</td>\n",
       "      <td>5 people found this helpful</td>\n",
       "      <td>1</td>\n",
       "      <td>front camera poor rest thing good</td>\n",
       "    </tr>\n",
       "  </tbody>\n",
       "</table>\n",
       "</div>"
      ],
      "text/plain": [
       "                                   Review Title             Customer name  \\\n",
       "0  Another Midrange killer Smartphone by Xiaomi         Rishikumar Thakur   \n",
       "3                               Value for Money           Amazon Customer   \n",
       "4                       Not worth for the money  Sudhakaran Wadakkancheri   \n",
       "6                                     Fabulous!          Irukulla bharath   \n",
       "7                                     Fantastic           Amazon Customer   \n",
       "\n",
       "   Rating                  Date  Category  \\\n",
       "0       4     on 1 October 2018         1   \n",
       "3       5  on 28 September 2018         1   \n",
       "4       2  on 18 September 2018         5   \n",
       "6       4  on 17 September 2018         1   \n",
       "7       4  on 18 September 2018         2   \n",
       "\n",
       "                                            Comments  \\\n",
       "0  Another Midrange killer Smartphone by Xiaomi\\n...   \n",
       "3  Redmi has always have been the the king of bud...   \n",
       "4  worst product from MI. I am a hardcore fan of ...   \n",
       "6  Pros:\\nnotch display\\nDual camera\\nFace unlock...   \n",
       "7          Front camera is poor rest things are good   \n",
       "\n",
       "                        Useful  Sentiment  \\\n",
       "0                                       1   \n",
       "3  2 people found this helpful          1   \n",
       "4  6 people found this helpful          0   \n",
       "6  3 people found this helpful          1   \n",
       "7  5 people found this helpful          1   \n",
       "\n",
       "                                  tokenized_comments  \n",
       "0  another midrange killer smartphone xiaomi majo...  \n",
       "3  redmi always king budget segmentand yet anothe...  \n",
       "4  worst product mi hardcore fan mi one really di...  \n",
       "6  pro notch display dual camera face unlock 4000...  \n",
       "7                  front camera poor rest thing good  "
      ]
     },
     "execution_count": 10,
     "metadata": {},
     "output_type": "execute_result"
    }
   ],
   "source": [
    "lemmatizer = WordNetLemmatizer()\n",
    "stemmer = SnowballStemmer(\"english\")\n",
    "\n",
    "stop = stopwords.words('english')\n",
    "\n",
    "df['tokenized_comments'] = df['Comments'].apply(lambda x: x.lower())\n",
    "df['tokenized_comments'] = df['tokenized_comments'].apply(lambda x: x.translate(str.maketrans('', '', string.punctuation)))\n",
    "df['tokenized_comments'] = df['tokenized_comments'].apply(lambda x: ' '.join([lemmatizer.lemmatize(word) for word in x.split() if word not in (stop)]))\n",
    "\n",
    "df.head()"
   ]
  },
  {
   "cell_type": "code",
   "execution_count": 11,
   "metadata": {},
   "outputs": [],
   "source": [
    "# def remove_punctuation(text):\n",
    "#     final = \"\".join(u for u in text if u not in (\"?\", \".\", \";\", \":\",  \"!\",'\"'))\n",
    "#     return final\n",
    "\n",
    "# df = df.dropna(subset=['tokenized_comments'])\n",
    "# df['tokenized_comments'] = df['tokenized_comments'].apply(remove_punctuation)\n",
    "# # df['tokenized_comments'] = df['Comments'].replace(r'\\s+|\\\\n', ' ', regex=True) \n",
    "# df['tokenized_comments'].head()"
   ]
  },
  {
   "cell_type": "code",
   "execution_count": 12,
   "metadata": {},
   "outputs": [],
   "source": [
    "# from nltk.stem import PorterStemmer\n",
    "\n",
    "# ps = PorterStemmer()\n",
    "\n",
    "# df['tokenized_comments'] = df['tokenized_comments'].apply(lambda x: ps.stem(x))\n",
    "# df['tokenized_comments'].head()"
   ]
  },
  {
   "cell_type": "code",
   "execution_count": 13,
   "metadata": {},
   "outputs": [
    {
     "data": {
      "text/html": [
       "<div>\n",
       "<style scoped>\n",
       "    .dataframe tbody tr th:only-of-type {\n",
       "        vertical-align: middle;\n",
       "    }\n",
       "\n",
       "    .dataframe tbody tr th {\n",
       "        vertical-align: top;\n",
       "    }\n",
       "\n",
       "    .dataframe thead th {\n",
       "        text-align: right;\n",
       "    }\n",
       "</style>\n",
       "<table border=\"1\" class=\"dataframe\">\n",
       "  <thead>\n",
       "    <tr style=\"text-align: right;\">\n",
       "      <th></th>\n",
       "      <th>tokenized_comments</th>\n",
       "      <th>Category</th>\n",
       "      <th>Sentiment</th>\n",
       "    </tr>\n",
       "  </thead>\n",
       "  <tbody>\n",
       "    <tr>\n",
       "      <th>0</th>\n",
       "      <td>another midrange killer smartphone xiaomi majo...</td>\n",
       "      <td>1</td>\n",
       "      <td>1</td>\n",
       "    </tr>\n",
       "    <tr>\n",
       "      <th>3</th>\n",
       "      <td>redmi always king budget segmentand yet anothe...</td>\n",
       "      <td>1</td>\n",
       "      <td>1</td>\n",
       "    </tr>\n",
       "    <tr>\n",
       "      <th>4</th>\n",
       "      <td>worst product mi hardcore fan mi one really di...</td>\n",
       "      <td>5</td>\n",
       "      <td>0</td>\n",
       "    </tr>\n",
       "    <tr>\n",
       "      <th>6</th>\n",
       "      <td>pro notch display dual camera face unlock 4000...</td>\n",
       "      <td>1</td>\n",
       "      <td>1</td>\n",
       "    </tr>\n",
       "    <tr>\n",
       "      <th>7</th>\n",
       "      <td>front camera poor rest thing good</td>\n",
       "      <td>2</td>\n",
       "      <td>1</td>\n",
       "    </tr>\n",
       "  </tbody>\n",
       "</table>\n",
       "</div>"
      ],
      "text/plain": [
       "                                  tokenized_comments  Category  Sentiment\n",
       "0  another midrange killer smartphone xiaomi majo...         1          1\n",
       "3  redmi always king budget segmentand yet anothe...         1          1\n",
       "4  worst product mi hardcore fan mi one really di...         5          0\n",
       "6  pro notch display dual camera face unlock 4000...         1          1\n",
       "7                  front camera poor rest thing good         2          1"
      ]
     },
     "execution_count": 13,
     "metadata": {},
     "output_type": "execute_result"
    }
   ],
   "source": [
    "dfpredictcategory = df[['tokenized_comments','Category','Sentiment']]\n",
    "dfpredictcategory.head()"
   ]
  },
  {
   "cell_type": "code",
   "execution_count": 14,
   "metadata": {},
   "outputs": [],
   "source": [
    "# index = df.index\n",
    "# df['random_number'] = np.random.randn(len(index))\n",
    "\n",
    "# train = dfpredictcategory[df['random_number'] <= 0.8]\n",
    "# test = dfpredictcategory[df['random_number'] > 0.8]"
   ]
  },
  {
   "cell_type": "code",
   "execution_count": 15,
   "metadata": {},
   "outputs": [],
   "source": [
    "# vectorizer = CountVectorizer(token_pattern=r'\\b\\w+\\b')\n",
    "# train_matrix = vectorizer.fit_transform(train['tokenized_comments'])\n",
    "# test_matrix = vectorizer.transform(test['tokenized_comments'])\n",
    "\n",
    "# print(train_matrix)"
   ]
  },
  {
   "cell_type": "code",
   "execution_count": 16,
   "metadata": {},
   "outputs": [],
   "source": [
    "# x_train = train_matrix\n",
    "# x_test = test_matrix\n",
    "# y_train = train['Category']\n",
    "# y_test = test['Category']"
   ]
  },
  {
   "cell_type": "code",
   "execution_count": 17,
   "metadata": {},
   "outputs": [
    {
     "name": "stdout",
     "output_type": "stream",
     "text": [
      "  (0, 1918)\t0.025212162728181484\n",
      "  (0, 2444)\t0.021998955732048554\n",
      "  (0, 633)\t0.025212162728181484\n",
      "  (0, 2483)\t0.025212162728181484\n",
      "  (0, 1455)\t0.025212162728181484\n",
      "  (0, 2115)\t0.025212162728181484\n",
      "  (0, 1921)\t0.025212162728181484\n",
      "  (0, 2796)\t0.025212162728181484\n",
      "  (0, 2152)\t0.023878561331841186\n",
      "  (0, 2203)\t0.025212162728181484\n",
      "  (0, 1713)\t0.025212162728181484\n",
      "  (0, 3138)\t0.025212162728181484\n",
      "  (0, 2834)\t0.025212162728181484\n",
      "  (0, 3070)\t0.025212162728181484\n",
      "  (0, 196)\t0.025212162728181484\n",
      "  (0, 1121)\t0.025212162728181484\n",
      "  (0, 2843)\t0.025212162728181484\n",
      "  (0, 942)\t0.025212162728181484\n",
      "  (0, 797)\t0.025212162728181484\n",
      "  (0, 872)\t0.025212162728181484\n",
      "  (0, 2201)\t0.025212162728181484\n",
      "  (0, 194)\t0.05042432545636297\n",
      "  (0, 2795)\t0.025212162728181484\n",
      "  (0, 1467)\t0.025212162728181484\n",
      "  (0, 3242)\t0.025212162728181484\n",
      "  :\t:\n",
      "  (252, 1718)\t0.12814400000492523\n",
      "  (252, 1104)\t0.11610822413791928\n",
      "  (252, 457)\t0.12814400000492523\n",
      "  (252, 135)\t0.23221644827583857\n",
      "  (252, 2226)\t0.11181246979200793\n",
      "  (252, 1698)\t0.12136580254595915\n",
      "  (252, 598)\t0.10225913703805666\n",
      "  (252, 2675)\t0.19955338785000387\n",
      "  (252, 1093)\t0.09977669392500194\n",
      "  (252, 1967)\t0.11610822413791928\n",
      "  (252, 322)\t0.10503427233304181\n",
      "  (252, 1633)\t0.08870274212012448\n",
      "  (252, 2397)\t0.10225913703805666\n",
      "  (252, 1821)\t0.08229559827695929\n",
      "  (252, 2353)\t0.06771015694702469\n",
      "  (252, 1454)\t0.11610822413791928\n",
      "  (252, 1966)\t0.10225913703805666\n",
      "  (252, 1942)\t0.11610822413791928\n",
      "  (252, 224)\t0.0902233611710507\n",
      "  (252, 3219)\t0.10503427233304181\n",
      "  (252, 2211)\t0.16030434843289054\n",
      "  (252, 450)\t0.0834451637120846\n",
      "  (252, 565)\t0.05795630027933273\n",
      "  (252, 2042)\t0.10922255931980457\n",
      "  (252, 1903)\t0.1668903274241692\n",
      "0      1\n",
      "3      1\n",
      "4      5\n",
      "6      1\n",
      "7      2\n",
      "      ..\n",
      "273    3\n",
      "275    5\n",
      "276    5\n",
      "278    5\n",
      "279    2\n",
      "Name: Category, Length: 253, dtype: int64\n"
     ]
    }
   ],
   "source": [
    "vectorizer = TfidfVectorizer(token_pattern=r'\\b\\w+\\b', ngram_range=(1, 2), max_features=5000)\n",
    "XV = vectorizer.fit_transform(df['tokenized_comments'])\n",
    "Y = df['Category']\n",
    "\n",
    "print(XV)\n",
    "print(Y)"
   ]
  },
  {
   "cell_type": "code",
   "execution_count": 18,
   "metadata": {},
   "outputs": [],
   "source": [
    "x_train, x_test, y_train, y_test = train_test_split(XV,Y, test_size= 0.3, random_state=42)"
   ]
  },
  {
   "cell_type": "code",
   "execution_count": 26,
   "metadata": {},
   "outputs": [
    {
     "name": "stdout",
     "output_type": "stream",
     "text": [
      "(590, 3278)\n",
      "Counter({5: 118, 3: 118, 2: 118, 1: 118, 4: 118})\n",
      "Counter({1: 45, 5: 45, 4: 45, 2: 45, 3: 45})\n"
     ]
    }
   ],
   "source": [
    "smote = SMOTE(k_neighbors=4)\n",
    "x_trains,y_trains = smote.fit_resample(x_train,y_train)\n",
    "\n",
    "print(x_trains.shape)\n",
    "SMOTEtest = SMOTE(k_neighbors=1)\n",
    "x_tests,y_tests = SMOTEtest.fit_resample(x_test,y_test)\n",
    "\n",
    "print(Counter(y_trains))\n",
    "print(Counter(y_tests))"
   ]
  },
  {
   "cell_type": "code",
   "execution_count": 28,
   "metadata": {},
   "outputs": [
    {
     "name": "stdout",
     "output_type": "stream",
     "text": [
      "(225, 3278)\n"
     ]
    }
   ],
   "source": [
    "print(x_tests.shape)"
   ]
  },
  {
   "cell_type": "code",
   "execution_count": 20,
   "metadata": {},
   "outputs": [
    {
     "data": {
      "text/plain": [
       "LogisticRegression(C=0.01, max_iter=2000)"
      ]
     },
     "execution_count": 20,
     "metadata": {},
     "output_type": "execute_result"
    }
   ],
   "source": [
    "Logistic = LogisticRegression(C=0.01, max_iter=2000, solver='lbfgs')\n",
    "Logistic.fit(x_trains, y_trains)"
   ]
  },
  {
   "cell_type": "code",
   "execution_count": 21,
   "metadata": {},
   "outputs": [
    {
     "name": "stdout",
     "output_type": "stream",
     "text": [
      "     Actual  Predicted\n",
      "0         1          1\n",
      "1         5          5\n",
      "2         5          5\n",
      "3         1          1\n",
      "4         4          4\n",
      "..      ...        ...\n",
      "220       4          4\n",
      "221       4          4\n",
      "222       4          4\n",
      "223       4          4\n",
      "224       4          4\n",
      "\n",
      "[225 rows x 2 columns]\n"
     ]
    }
   ],
   "source": [
    "Category_Predictions = Logistic.predict(x_tests)\n",
    "logistic_result_category= pd.DataFrame({'Actual': y_tests, 'Predicted': Category_Predictions})\n",
    "print(logistic_result_category)"
   ]
  },
  {
   "cell_type": "code",
   "execution_count": 22,
   "metadata": {},
   "outputs": [
    {
     "name": "stdout",
     "output_type": "stream",
     "text": [
      "              precision    recall  f1-score   support\n",
      "\n",
      "           1       0.91      0.89      0.90        45\n",
      "           2       1.00      0.47      0.64        45\n",
      "           3       0.81      0.76      0.78        45\n",
      "           4       0.98      1.00      0.99        45\n",
      "           5       0.61      0.98      0.75        45\n",
      "\n",
      "    accuracy                           0.82       225\n",
      "   macro avg       0.86      0.82      0.81       225\n",
      "weighted avg       0.86      0.82      0.81       225\n",
      "\n"
     ]
    }
   ],
   "source": [
    "print(classification_report(y_tests, Category_Predictions))"
   ]
  },
  {
   "cell_type": "code",
   "execution_count": 29,
   "metadata": {},
   "outputs": [],
   "source": [
    "vectorizer = TfidfVectorizer(token_pattern=r'\\b\\w+\\b', ngram_range=(1, 2), max_features=5000)\n",
    "XV = vectorizer.fit_transform(df['tokenized_comments'])\n",
    "Y= df['Sentiment']\n",
    "\n",
    "x_train_s, x_test_s, y_train_s, y_test_s = train_test_split(XV,Y, test_size= 0.3, random_state=42)"
   ]
  },
  {
   "cell_type": "code",
   "execution_count": 30,
   "metadata": {},
   "outputs": [
    {
     "name": "stdout",
     "output_type": "stream",
     "text": [
      "(278, 3278)\n",
      "Counter({5: 118, 3: 118, 2: 118, 1: 118, 4: 118})\n",
      "Counter({1: 45, 5: 45, 4: 45, 2: 45, 3: 45})\n"
     ]
    }
   ],
   "source": [
    "smote = SMOTE()\n",
    "x_trains_s,y_trains_s = smote.fit_resample(x_train_s,y_train_s)\n",
    "\n",
    "print(x_trains_s.shape)\n",
    "SMOTEtest = SMOTE()\n",
    "x_tests_s,y_tests_s = SMOTEtest.fit_resample(x_test_s,y_test_s)\n",
    "\n",
    "print(Counter(y_trains))\n",
    "print(Counter(y_tests))"
   ]
  },
  {
   "cell_type": "code",
   "execution_count": 31,
   "metadata": {},
   "outputs": [
    {
     "name": "stdout",
     "output_type": "stream",
     "text": [
      "(124, 3278)\n"
     ]
    }
   ],
   "source": [
    "print(x_tests_s.shape)"
   ]
  },
  {
   "cell_type": "code",
   "execution_count": 25,
   "metadata": {},
   "outputs": [
    {
     "data": {
      "text/plain": [
       "LogisticRegression(C=10, solver='liblinear')"
      ]
     },
     "execution_count": 25,
     "metadata": {},
     "output_type": "execute_result"
    }
   ],
   "source": [
    "from sklearn.linear_model import LogisticRegressionCV\n",
    "\n",
    "LogisticS = LogisticRegression(C=10, penalty='l2', solver='liblinear')\n",
    "LogisticS.fit(x_trains_s, y_trains_s)"
   ]
  },
  {
   "cell_type": "code",
   "execution_count": 26,
   "metadata": {},
   "outputs": [
    {
     "name": "stdout",
     "output_type": "stream",
     "text": [
      "     Actual  Predicted\n",
      "0         1          1\n",
      "1         1          1\n",
      "2         1          1\n",
      "3         1          1\n",
      "4         1          1\n",
      "..      ...        ...\n",
      "119       0          0\n",
      "120       0          0\n",
      "121       0          1\n",
      "122       0          0\n",
      "123       0          0\n",
      "\n",
      "[124 rows x 2 columns]\n"
     ]
    }
   ],
   "source": [
    "Sentiment_Predictions = LogisticS.predict(x_tests_s)\n",
    "logistic_result_sentiment= pd.DataFrame({'Actual': y_tests_s, 'Predicted': Sentiment_Predictions})\n",
    "print(logistic_result_sentiment)"
   ]
  },
  {
   "cell_type": "code",
   "execution_count": 27,
   "metadata": {},
   "outputs": [
    {
     "data": {
      "text/plain": [
       "array([[58,  4],\n",
       "       [ 6, 56]], dtype=int64)"
      ]
     },
     "execution_count": 27,
     "metadata": {},
     "output_type": "execute_result"
    }
   ],
   "source": [
    "confusion_matrix(y_tests_s, Sentiment_Predictions)"
   ]
  },
  {
   "cell_type": "code",
   "execution_count": 28,
   "metadata": {},
   "outputs": [
    {
     "name": "stdout",
     "output_type": "stream",
     "text": [
      "              precision    recall  f1-score   support\n",
      "\n",
      "           0       0.91      0.94      0.92        62\n",
      "           1       0.93      0.90      0.92        62\n",
      "\n",
      "    accuracy                           0.92       124\n",
      "   macro avg       0.92      0.92      0.92       124\n",
      "weighted avg       0.92      0.92      0.92       124\n",
      "\n"
     ]
    }
   ],
   "source": [
    "print(classification_report(y_tests_s, Sentiment_Predictions))"
   ]
  },
  {
   "cell_type": "code",
   "execution_count": 29,
   "metadata": {},
   "outputs": [
    {
     "name": "stdout",
     "output_type": "stream",
     "text": [
      "Logistic Regression Category Prediction Accuracy: 81.77777777777779\n",
      "Logistic Regression Sentiment Prediction Accuracy: 91.93548387096774\n"
     ]
    }
   ],
   "source": [
    "print(\"Logistic Regression Category Prediction Accuracy:\",\n",
    "metrics.accuracy_score(y_tests,Category_Predictions)*100)\n",
    "\n",
    "print(\"Logistic Regression Sentiment Prediction Accuracy:\",\n",
    "metrics.accuracy_score(y_tests_s,Sentiment_Predictions)*100)"
   ]
  },
  {
   "cell_type": "code",
   "execution_count": 50,
   "metadata": {},
   "outputs": [],
   "source": [
    "vectorizer = TfidfVectorizer(token_pattern=r'\\b\\w+\\b', ngram_range=(1, 2), max_features=5000)\n",
    "XV = vectorizer.fit_transform(df['tokenized_comments'])\n",
    "Y= df['Category']\n",
    "\n",
    "x_train_n, x_test_n, y_train_n, y_test_n = train_test_split(XV,Y, test_size= 0.3, random_state=42)\n"
   ]
  },
  {
   "cell_type": "code",
   "execution_count": 48,
   "metadata": {},
   "outputs": [
    {
     "name": "stdout",
     "output_type": "stream",
     "text": [
      "Counter({5: 118, 3: 118, 2: 118, 1: 118, 4: 118})\n",
      "Counter({1: 45, 5: 45, 4: 45, 2: 45, 3: 45})\n"
     ]
    }
   ],
   "source": [
    "smote = SMOTE(k_neighbors=4)\n",
    "x_trains_n,y_trains_n = smote.fit_resample(x_train_n,y_train_n)\n",
    "\n",
    "SMOTEtest = SMOTE(k_neighbors=1)\n",
    "x_tests_n,y_tests_n = SMOTEtest.fit_resample(x_test_n,y_test_n)\n",
    "\n",
    "print(Counter(y_trains))\n",
    "print(Counter(y_tests))"
   ]
  },
  {
   "cell_type": "code",
   "execution_count": 32,
   "metadata": {},
   "outputs": [
    {
     "data": {
      "text/plain": [
       "LinearSVC(C=0.01)"
      ]
     },
     "execution_count": 32,
     "metadata": {},
     "output_type": "execute_result"
    }
   ],
   "source": [
    "svmC = LinearSVC(C=0.01)\n",
    "svmC.fit(x_trains_n, y_trains_n)"
   ]
  },
  {
   "cell_type": "code",
   "execution_count": 33,
   "metadata": {},
   "outputs": [
    {
     "name": "stdout",
     "output_type": "stream",
     "text": [
      "     Actual  Predicted\n",
      "0         1          1\n",
      "1         5          5\n",
      "2         5          5\n",
      "3         1          1\n",
      "4         4          4\n",
      "..      ...        ...\n",
      "220       4          4\n",
      "221       4          4\n",
      "222       4          4\n",
      "223       4          4\n",
      "224       4          4\n",
      "\n",
      "[225 rows x 2 columns]\n"
     ]
    }
   ],
   "source": [
    "Category_Predictions_SVC = svmC.predict(x_tests_n)\n",
    "SVC_result_category= pd.DataFrame({'Actual': y_tests_n, 'Predicted': Category_Predictions_SVC})\n",
    "print(SVC_result_category)"
   ]
  },
  {
   "cell_type": "code",
   "execution_count": 34,
   "metadata": {},
   "outputs": [
    {
     "name": "stdout",
     "output_type": "stream",
     "text": [
      "              precision    recall  f1-score   support\n",
      "\n",
      "           1       0.88      0.96      0.91        45\n",
      "           2       1.00      0.60      0.75        45\n",
      "           3       0.88      0.84      0.86        45\n",
      "           4       0.98      1.00      0.99        45\n",
      "           5       0.72      0.96      0.82        45\n",
      "\n",
      "    accuracy                           0.87       225\n",
      "   macro avg       0.89      0.87      0.87       225\n",
      "weighted avg       0.89      0.87      0.87       225\n",
      "\n"
     ]
    }
   ],
   "source": [
    "print(classification_report(y_tests_n,Category_Predictions_SVC))"
   ]
  },
  {
   "cell_type": "code",
   "execution_count": 35,
   "metadata": {},
   "outputs": [],
   "source": [
    "vectorizer = TfidfVectorizer(token_pattern=r'\\b\\w+\\b', ngram_range=(1, 2), max_features=5000)\n",
    "XV = vectorizer.fit_transform(df['tokenized_comments'])\n",
    "Y= df['Sentiment']\n",
    "\n",
    "\n",
    "x_train_ns, x_test_ns, y_train_ns, y_test_ns = train_test_split(XV,Y, test_size= 0.3, random_state=42)"
   ]
  },
  {
   "cell_type": "code",
   "execution_count": 36,
   "metadata": {},
   "outputs": [],
   "source": [
    "smote = SMOTE()\n",
    "x_trains_ns,y_trains_ns = smote.fit_resample(x_train_ns,y_train_ns)\n",
    "\n",
    "SMOTEtest = SMOTE()\n",
    "x_tests_ns,y_tests_ns = SMOTEtest.fit_resample(x_test_ns,y_test_ns)"
   ]
  },
  {
   "cell_type": "code",
   "execution_count": 37,
   "metadata": {},
   "outputs": [
    {
     "data": {
      "text/plain": [
       "LinearSVC(C=0.1)"
      ]
     },
     "execution_count": 37,
     "metadata": {},
     "output_type": "execute_result"
    }
   ],
   "source": [
    "svmS = LinearSVC(C=0.1)\n",
    "\n",
    "svmS.fit(x_trains_ns, y_trains_ns)"
   ]
  },
  {
   "cell_type": "code",
   "execution_count": 38,
   "metadata": {},
   "outputs": [
    {
     "name": "stdout",
     "output_type": "stream",
     "text": [
      "     Actual  Predicted\n",
      "0         1          1\n",
      "1         1          1\n",
      "2         1          1\n",
      "3         1          1\n",
      "4         1          1\n",
      "..      ...        ...\n",
      "119       0          1\n",
      "120       0          1\n",
      "121       0          0\n",
      "122       0          0\n",
      "123       0          0\n",
      "\n",
      "[124 rows x 2 columns]\n"
     ]
    }
   ],
   "source": [
    "Sentiment_Predictions_SVC = svmS.predict(x_tests_ns)\n",
    "SVC_result_sentiment= pd.DataFrame({'Actual': y_tests_ns, 'Predicted': Sentiment_Predictions_SVC})\n",
    "print(SVC_result_sentiment)"
   ]
  },
  {
   "cell_type": "code",
   "execution_count": 39,
   "metadata": {},
   "outputs": [
    {
     "name": "stdout",
     "output_type": "stream",
     "text": [
      "              precision    recall  f1-score   support\n",
      "\n",
      "           0       1.00      0.87      0.93        62\n",
      "           1       0.89      1.00      0.94        62\n",
      "\n",
      "    accuracy                           0.94       124\n",
      "   macro avg       0.94      0.94      0.94       124\n",
      "weighted avg       0.94      0.94      0.94       124\n",
      "\n"
     ]
    }
   ],
   "source": [
    "print(classification_report(y_tests_ns,Sentiment_Predictions_SVC))"
   ]
  },
  {
   "cell_type": "code",
   "execution_count": 40,
   "metadata": {},
   "outputs": [
    {
     "name": "stdout",
     "output_type": "stream",
     "text": [
      "Logistic Regression Category Prediction Accuracy: 81.77777777777779\n",
      "Logistic Regression Sentiment Prediction Accuracy: 91.93548387096774\n",
      "SVC Category Prediction Accuracy: 87.1111111111111\n",
      "SVC Sentiment Prediction Accuracy: 93.54838709677419\n"
     ]
    }
   ],
   "source": [
    "print(\"Logistic Regression Category Prediction Accuracy:\",\n",
    "metrics.accuracy_score(y_tests,Category_Predictions)*100)\n",
    "print(\"Logistic Regression Sentiment Prediction Accuracy:\",\n",
    "metrics.accuracy_score(y_tests_s,Sentiment_Predictions)*100)\n",
    "\n",
    "print(\"SVC Category Prediction Accuracy:\",\n",
    "metrics.accuracy_score(y_tests_n,Category_Predictions_SVC)*100)\n",
    "print(\"SVC Sentiment Prediction Accuracy:\",\n",
    "metrics.accuracy_score(y_tests_ns,Sentiment_Predictions_SVC)*100)"
   ]
  }
 ],
 "metadata": {
  "kernelspec": {
   "display_name": "Python 3",
   "language": "python",
   "name": "python3"
  },
  "language_info": {
   "codemirror_mode": {
    "name": "ipython",
    "version": 3
   },
   "file_extension": ".py",
   "mimetype": "text/x-python",
   "name": "python",
   "nbconvert_exporter": "python",
   "pygments_lexer": "ipython3",
   "version": "3.7.6"
  },
  "orig_nbformat": 4,
  "vscode": {
   "interpreter": {
    "hash": "7d31f92f07a124b61c926baec2361bc3985404049e5df16f045a7a242565e9bb"
   }
  }
 },
 "nbformat": 4,
 "nbformat_minor": 2
}
